{
  "nbformat": 4,
  "nbformat_minor": 0,
  "metadata": {
    "colab": {
      "name": "Deep_Neural_Networks_from_Scratch_using_NumPy.ipynb",
      "provenance": [],
      "collapsed_sections": []
    },
    "kernelspec": {
      "name": "python3",
      "display_name": "Python 3"
    },
    "accelerator": "TPU"
  },
  "cells": [
    {
      "cell_type": "markdown",
      "metadata": {
        "id": "viVefdvcN69F",
        "colab_type": "text"
      },
      "source": [
        "#**IMPORT REQUIRED PACKAGES**\n",
        "\n",
        "\n",
        "\n",
        "\n",
        "\n",
        "\n",
        "\n"
      ]
    },
    {
      "cell_type": "code",
      "metadata": {
        "id": "GtUemp3HN35X",
        "colab_type": "code",
        "colab": {}
      },
      "source": [
        "import numpy as np\n",
        "import matplotlib.pyplot as plt"
      ],
      "execution_count": 0,
      "outputs": []
    },
    {
      "cell_type": "markdown",
      "metadata": {
        "id": "fLiHm83vOV8R",
        "colab_type": "text"
      },
      "source": [
        "#**DEEP NEURAL NETWORK CLASS**"
      ]
    },
    {
      "cell_type": "code",
      "metadata": {
        "id": "eZRGDIXZQC35",
        "colab_type": "code",
        "colab": {}
      },
      "source": [
        "class Deep_Neural_Network :\n",
        "\n",
        "  def create(self,input_size,output_size,hidden_dims,output_type,initializer='random',\n",
        "             seed=None,activation='relu',leaky_relu_slope=0.1):\n",
        "    \"\"\"\n",
        "    The method to define the architecture of Deep Neural Network and initialize weights.\n",
        "\n",
        "    Parameters:\n",
        "\n",
        "    input_size(int)       :   No. of neurons in input layer.\n",
        "    \n",
        "    output_size(int)      :   No. of classes in classification task (2 in case of binary classification,\n",
        "                              modify the dataset accordingly !)\n",
        "                              (or) No. of Target variables in case of regression task.\n",
        "\n",
        "    hidden_dims(int list) :   No. of neurons in hidden layers.\n",
        "\n",
        "    output_type(string)   :   Type of task :\n",
        "                              'classification'  :  Classification (discrete target).\n",
        "                              'regression'      :  Regression (continuous target).\n",
        "\n",
        "    initializer(string)   :   Weight initializer :\n",
        "                              'random'  : Random initialization.\n",
        "                              'xavier'  : Xavier initialization (preferred for tanh activation).\n",
        "                              'he'      : He initialization (preferred for ReLU activation).\n",
        "\n",
        "    seed(int)             :   NumPy seed for random initialization.\n",
        "\n",
        "    activation(string)    :   Activation function for hidden layers. One of the following :\n",
        "                              'linear'  : Linear activation.\n",
        "                              'sigmoid' : Sigmoid activation.\n",
        "                              'tanh'    : Hyberbolic tangent activation.\n",
        "                              'relu'    : Rectified Linear Unit activation.\n",
        "                              'lrelu'   : Leaky Rectified Linear Unit activation.\n",
        "\n",
        "                              Activation function at output layer would be SoftMax for classification\n",
        "                              and Linear for regression.\n",
        "\n",
        "    leaky_relu_slope(int) :   Slope for Leaky ReLU activation.   \n",
        "\n",
        "    \"\"\"\n",
        "    self.layer_dims=[input_size]+hidden_dims+[output_size]\n",
        "    self.W = {}\n",
        "    self.b = {}\n",
        "    self.activation = activation\n",
        "    self.leaky_relu_slope = leaky_relu_slope\n",
        "    self.initializer = initializer\n",
        "    self.output_type = output_type\n",
        "\n",
        "    self.L = len(self.layer_dims)-1\n",
        "\n",
        "    if seed != None:\n",
        "      np.random.seed(seed)\n",
        "\n",
        "    for i in range(self.L):\n",
        "      self.W[i+1] = np.random.randn(self.layer_dims[i+1],self.layer_dims[i])\n",
        "      self.b[i+1] = np.zeros((self.layer_dims[i+1],1))\n",
        "\n",
        "    if self.initializer == 'xavier':\n",
        "      for i in range(self.L):\n",
        "        self.W[i+1] = self.W[i+1]*np.sqrt(1/(self.layer_dims[i]))\n",
        "\n",
        "    elif self.initializer == 'he':\n",
        "      for i in range(self.L):\n",
        "        self.W[i+1] = self.W[i+1]*np.sqrt(2/(self.layer_dims[i]))\n",
        "\n",
        "\n",
        "\n",
        "  def save_weights(self):\n",
        "    \"\"\"\n",
        "    The method to save model weights.\n",
        "\n",
        "    Returns :\n",
        "\n",
        "    params(tuple)   : Tuple containing Model weights and biases in form of dictionaries.\n",
        "\n",
        "    \"\"\"\n",
        "    return (self.W,self.b)\n",
        "\n",
        "  \n",
        "\n",
        "  def load_weights(self,params):\n",
        "    \"\"\"\n",
        "    The method to load model weights.\n",
        "\n",
        "    Parameters :\n",
        "\n",
        "    params(tuple)   : Tuple containing Model weights and biases in form of dictionaries.\n",
        "\n",
        "    \"\"\"\n",
        "    self.W = params[0]\n",
        "    self.b = params[1]\n",
        "\n",
        "\n",
        "\n",
        "  ### ACTIVATION FUNCTIONS AND THEIR GRADIENTS ###\n",
        "\n",
        "  def linear(self,X):\n",
        "    return X\n",
        "\n",
        "  def linear_grad(self,X):\n",
        "    return np.ones(shape=X.shape) \n",
        "\n",
        "  def sigmoid(self,X):\n",
        "    return 1/(1+np.exp(-X))\n",
        "\n",
        "  def sigmoid_grad(self,X):\n",
        "    return self.sigmoid(X)*(1-self.sigmoid(X))\n",
        "\n",
        "  def tanh(self,X):\n",
        "    return np.tanh(X)\n",
        "\n",
        "  def tanh_grad(self,X):\n",
        "    return 1-((self.tanh(X))**2)\n",
        "\n",
        "  def relu(self,X):\n",
        "    return np.maximum(0,X)\n",
        "\n",
        "  def relu_grad(self,X):\n",
        "    return 1.0*(X>0)\n",
        "\n",
        "  def lrelu(self,X):\n",
        "    return np.where(X > 0, X, X * self.leaky_relu_slope)\n",
        "\n",
        "  def lrelu_grad(self,X):\n",
        "    return np.where(X > 0, 1, self.leaky_relu_slope)   \n",
        "\n",
        "  def softmax(self,X):\n",
        "    exps = np.exp(X-np.max(X))\n",
        "    return exps/np.sum(exps,axis=0)\n",
        "\n",
        "\n",
        "\n",
        "  def to_one_hot(self,X):\n",
        "    \"\"\"\n",
        "    The method to convert SoftMax probabilities to label in one hot form.\n",
        "\n",
        "    Parameters :\n",
        "\n",
        "    X(NumPy 2D array of shape (output_size,m))  : Predicted SoftMax probabilities for batch of size m.\n",
        "\n",
        "    Returns :\n",
        "\n",
        "    X_one_hot(NumPy 2D array of shape (output_size,m)) : Predicted labels in one hot form for batch of \n",
        "                                                         size m.\n",
        "\n",
        "    \"\"\"\n",
        "    a = np.argmax(X,axis=0)\n",
        "    b = np.zeros((X.shape[0],a.size))\n",
        "    b[a,np.arange(a.size)] = 1\n",
        "    return b\n",
        "\n",
        "\n",
        "\n",
        "  def accuracy(self,Y_pred,Y_true):\n",
        "    \"\"\"\n",
        "    The method to calculate classification accuracy.\n",
        "\n",
        "    Parameters :\n",
        "\n",
        "    Y_pred(NumPy 2D array of shape (output_size,m))  : Predicted labels for batch of size m.\n",
        "    \n",
        "    Y_true(NumPy 2D array of shape (output_size,m))  : Actual labels for batch of size m.\n",
        "\n",
        "    Returns :\n",
        "\n",
        "    accuracy(float)   : Accuracy in range [0,1].\n",
        "\n",
        "    \"\"\"\n",
        "    a = np.argmax(Y_pred,axis=0)\n",
        "    b = np.argmax(Y_true,axis=0)\n",
        "\n",
        "    correct = np.sum((a==b)*1)\n",
        "    total = a.size\n",
        "\n",
        "    return correct/total\n",
        "\n",
        "\n",
        "\n",
        "  def forward_propagation(self,X,dropout=False):\n",
        "    \"\"\"\n",
        "    The method to forward propagate input data through the network, and calculate activations of \n",
        "    each layer.\n",
        "\n",
        "    Parameters :\n",
        "\n",
        "    X(NumPy 2D array of shape (input_size,m))  : Input data for batch of size m.\n",
        "\n",
        "    dropout(boolean)                           : Perform dropout or not.\n",
        "\n",
        "    Returns :\n",
        "\n",
        "    activations(dictionary)   : Activations of all layers.\n",
        "\n",
        "    \"\"\"\n",
        "    self.Z = {}\n",
        "    self.A = {}\n",
        "\n",
        "    self.A[0] = X\n",
        "\n",
        "    for i in range (len(self.layer_dims)-2):\n",
        "      self.Z[i+1] = np.matmul(self.W[i+1],self.A[i])+self.b[i+1]\n",
        "      _ = \"self.A[i+1] = self.\"+self.activation+\"(self.Z[i+1])\"\n",
        "      exec(_)\n",
        "\n",
        "      if dropout == True:\n",
        "        self.A[i+1] *= ((np.random.rand(self.A[i+1].shape[0],self.A[i+1].shape[1])<self.keep_probs[i])*1)\n",
        "        self.A[i+1].reshape(1,-1)\n",
        "        self.A[i+1] /= self.keep_probs[i]\n",
        "\n",
        "    self.Z[self.L] = np.matmul(self.W[self.L],self.A[len(self.layer_dims)-2])+self.b[self.L]\n",
        "\n",
        "    if self.output_type == 'classification':\n",
        "      self.A[self.L] = self.softmax(self.Z[self.L])\n",
        "\n",
        "    elif self.output_type == 'regression':\n",
        "      self.A[self.L] = self.Z[self.L] \n",
        "\n",
        "    return self.A\n",
        "\n",
        "\n",
        "\n",
        "  def compute_cost(self,Y_pred,Y_true):\n",
        "    \"\"\"\n",
        "    The method to compute cost for the current forward propagated batch.\n",
        "\n",
        "    Parameters :\n",
        "\n",
        "    Y_pred(NumPy 2D array of shape (output_size,m))  : Predicted outputs for current forward propagated \n",
        "                                                       batch of size m.\n",
        "    \n",
        "    Y_true(NumPy 2D array of shape (output_size,m))  : Ground truths for current forward propagated batch\n",
        "                                                       of size m.\n",
        "\n",
        "    Returns :\n",
        "\n",
        "    cost(float)   : Cost for current forward propagated batch.\n",
        "\n",
        "    \"\"\"\n",
        "    if self.output_type=='classification':\n",
        "      cost = (1/Y_true.shape[1])*np.sum(-1*Y_true*np.log(Y_pred))\n",
        "\n",
        "    else:\n",
        "      cost = (1/(2*Y_true.shape[1]))*np.sum((Y_pred-Y_true)**2)\n",
        "\n",
        "    sum=0\n",
        "\n",
        "    if self.regularizer == 'l2':\n",
        "      for i in range(self.L):\n",
        "        sum += np.sum(self.W[i+1]**2)\n",
        "      cost += ((1/(2*Y_true.shape[1]))*sum)      \n",
        "\n",
        "    elif self.regularizer == 'l1':\n",
        "      for i in range(self.L):\n",
        "        sum += np.sum(np.abs(self.W[i+1]))\n",
        "      cost += ((1/Y_true.shape[1])*sum)   \n",
        "    \n",
        "    return cost\n",
        "\n",
        "\n",
        "\n",
        "  def backward_propagation(self,Y):\n",
        "    \"\"\"\n",
        "    The method to compute gradient of cost with respect to weights and biases of each layer.\n",
        "\n",
        "    Parameters :\n",
        "\n",
        "    Y(NumPy 2D array of shape (output_size,m))  : Ground truths for current forward propagated batch \n",
        "                                                  of size m.\n",
        "\n",
        "    Returns :\n",
        "\n",
        "    gradients(tuple)   : Tuple containing gradients of cost with respect to weights and biases of each \n",
        "                         layer in form of dictionaries.\n",
        "\n",
        "    \"\"\"\n",
        "    self.dZ = {}\n",
        "    self.dA = {}\n",
        "    self.dW = {}\n",
        "    self.db = {}\n",
        "\n",
        "    self.dZ[self.L] = self.A[self.L]-Y\n",
        "\n",
        "    for i in range(self.L,0,-1):\n",
        "\n",
        "      self.dW[i] = (1/self.dZ[i].shape[1])*np.matmul(self.dZ[i],self.A[i-1].T)\n",
        "\n",
        "      if self.regularizer == 'l2':\n",
        "        self.dW[i] += self.regularizer_lambda*self.W[i]\n",
        "      elif self.regularizer == 'l1':\n",
        "        self.dW[i] += self.regularizer_lambda*np.where(self.W[i]>0,1,-1) \n",
        "        \n",
        "      self.db[i] = (1/self.dZ[i].shape[1])*np.sum(self.dZ[i],axis=1,keepdims=True)\n",
        "      _ = \"self.dZ[i-1] = np.matmul(self.W[i].T,self.dZ[i])*self.\"+self.activation+\"_grad(self.A[i-1])\"\n",
        "      exec(_) \n",
        "      \n",
        "    return (self.dW,self.db)\n",
        "  \n",
        "\n",
        "\n",
        "  def train(self,X_train,Y_train,X_val,Y_val,optimizer='vanilla',regularizer=None,regularizer_lambda=0.02,\n",
        "            keep_probs=[],mini_batch_size=32,epochs=100,learning_rate=0.01,beta=0.9,beta1=0.9,beta2=0.99,\n",
        "            print_loss_freq=100,plot_loss=True):\n",
        "    \"\"\"\n",
        "    The method to train the weights and biases of each layer for the provided training data with \n",
        "    ground truths.\n",
        "\n",
        "    Parameters :\n",
        "\n",
        "    X_train(NumPy 2D array of shape(input_size,m))   :  Input data(for batch of size m) for training.\n",
        "\n",
        "    Y_train(NumPy 2D array of shape(output_size,m))  :  Ground truths(for batch of size m) for training.\n",
        "\n",
        "    X_val(NumPy 2D array of shape(input_size,m))     :  Input data(for batch of size m) for validation.\n",
        "\n",
        "    Y_val(NumPy 2D array of shape(output_size,m))    :  Ground truths(for batch of size m) for validation.\n",
        "\n",
        "    optimizer(string)             :   Optimizer for training process, one of the following :\n",
        "                                      'vanilla'     : Original gradient decsent.\n",
        "                                      'momentum'    : Gradient descent with momentum.\n",
        "                                      'rmsprop'     : Root mean square propagation.\n",
        "                                      'adam'        : Adaptive moments estimation.\n",
        "    \n",
        "    regularizer(string)           :   Regularizer for weights of network, one of the following :\n",
        "                                      'l1'      : L1 regularization.\n",
        "                                      'l2'      : L2 regularization.\n",
        "                                      'dropout' : Dropout regularization.\n",
        "                                      None      : No regularizer.\n",
        "\n",
        "    regularizer_lambda(float)     :   Regularization parameter lambda for L1 or L2 regularization.\n",
        "\n",
        "    keep_probs(float[0,1] list)   :   Keeping probabilities for hidden layers in Dropout regularization.\n",
        "\n",
        "    mini_batch_size(int)          :   Mini Batch size (1 for Stochastic gradient descent).\n",
        "\n",
        "    epochs(int)                   :   No. of iterations over training set.\n",
        "\n",
        "    learning_rate(float)          :   Learning rate aplha.\n",
        "\n",
        "    beta(float)                   :   Optimizer parameter beta for 'momentum' and 'rmsprop' optimizers.\n",
        "\n",
        "    beta1(float)                  :   Optimizer parameter beta2 for 'adam' optimizer.\n",
        "\n",
        "    beta2(float)                  :   Optimizer parameter beta2 for 'adam' optimizer.\n",
        "\n",
        "    print_loss_freq(int)          :   Frequency of printing metrics.\n",
        "\n",
        "    plot_loss(boolean)            :   Plot learning curves or not.\n",
        "\n",
        "    Returns :\n",
        "\n",
        "    Metrics_history(tuple)        :   History of metrics in form of lists\n",
        "\n",
        "    \"\"\"\n",
        "    self.regularizer_lambda = regularizer_lambda\n",
        "    self.regularizer = regularizer\n",
        "\n",
        "    if keep_probs != []:\n",
        "      self.keep_probs = keep_probs\n",
        "    else:\n",
        "      self.keep_probs = [1]*(len(self.layer_dims)-2)\n",
        "\n",
        "    self.print_loss_freq = print_loss_freq  \n",
        "\n",
        "    self.Mw = {}\n",
        "    self.Mb = {}\n",
        "    self.Vw = {}\n",
        "    self.Vb = {}\n",
        "\n",
        "    for i in range(self.L):\n",
        "      self.Mw[i+1] = np.zeros(shape=self.W[i+1].shape)\n",
        "      self.Mb[i+1] = np.zeros(shape=self.b[i+1].shape)\n",
        "      self.Vw[i+1] = np.zeros(shape=self.W[i+1].shape)\n",
        "      self.Vb[i+1] = np.zeros(shape=self.b[i+1].shape)\n",
        "\n",
        "    train_cost = []\n",
        "    val_cost = []\n",
        "    train_acc = []\n",
        "    val_acc = []\n",
        "    m = X_train.shape[1]\n",
        "\n",
        "    drop = False\n",
        "    if(self.regularizer == 'dropout'):\n",
        "      drop = True\n",
        "\n",
        "    t = 1\n",
        "    \n",
        "    for e in range(epochs):\n",
        "\n",
        "      mask = np.random.permutation(m)\n",
        "\n",
        "      X_train = X_train[:,mask]\n",
        "      Y_train = Y_train[:,mask]\n",
        "\n",
        "      if optimizer == 'vanilla':\n",
        "\n",
        "        for i in range(0,m,mini_batch_size):\n",
        "\n",
        "          _ = self.forward_propagation(X_train[:,i:(i+mini_batch_size)],drop)\n",
        "          _ = self.backward_propagation(Y_train[:,i:(i+mini_batch_size)])\n",
        "          \n",
        "          for i in range(self.L):\n",
        "            self.W[i+1] -= learning_rate*self.dW[i+1]\n",
        "            self.b[i+1] -= learning_rate*self.db[i+1]\n",
        "\n",
        "      elif optimizer == 'momentum':\n",
        "\n",
        "        for i in range(0,m,mini_batch_size):\n",
        "\n",
        "          _ = self.forward_propagation(X_train[:,i:(i+mini_batch_size)],drop)\n",
        "          _ = self.backward_propagation(Y_train[:,i:(i+mini_batch_size)])\n",
        "\n",
        "          for i in range(self.L):\n",
        "            self.Mw[i+1] = (beta*self.Mw[i+1])+(1-beta)*self.dW[i+1]\n",
        "            self.Mb[i+1] = (beta*self.Mb[i+1])+(1-beta)*self.db[i+1]\n",
        "          \n",
        "          \n",
        "          for i in range(self.L):\n",
        "            self.W[i+1] -= learning_rate*self.Mw[i+1]\n",
        "            self.b[i+1] -= learning_rate*self.Mb[i+1]\n",
        "\n",
        "      elif optimizer == 'rmsprop':\n",
        "\n",
        "        for i in range(0,m,mini_batch_size):\n",
        "\n",
        "          _ = self.forward_propagation(X_train[:,i:(i+mini_batch_size)],drop)\n",
        "          _ = self.backward_propagation(Y_train[:,i:(i+mini_batch_size)])\n",
        "\n",
        "          for i in range(self.L):\n",
        "            self.Vw[i+1] = (beta*self.Vw[i+1])+(1-beta)*(self.dW[i+1]**2)\n",
        "            self.Vb[i+1] = (beta*self.Vb[i+1])+(1-beta)*(self.db[i+1]**2)\n",
        "          \n",
        "          for i in range(self.L):\n",
        "            \n",
        "            self.W[i+1] -= learning_rate*(self.dW[i+1]/(np.sqrt(self.Vw[i+1])+10e-8))\n",
        "            self.b[i+1] -= learning_rate*(self.db[i+1]/(np.sqrt(self.Vb[i+1])+10e-8))\n",
        "\n",
        "      elif optimizer == 'adam':\n",
        "        \n",
        "        for i in range(0,m,mini_batch_size):\n",
        "\n",
        "          _ = self.forward_propagation(X_train[:,i:(i+mini_batch_size)],drop)\n",
        "          _ = self.backward_propagation(Y_train[:,i:(i+mini_batch_size)])\n",
        "\n",
        "          for i in range(self.L):\n",
        "\n",
        "            self.Mw[i+1] = (beta1*self.Mw[i+1])+(1-beta1)*self.dW[i+1]\n",
        "            #self.Mw[i+1] /= (1-np.power(beta1,t))\n",
        "            self.Mb[i+1] = (beta1*self.Mb[i+1])+(1-beta1)*self.db[i+1]\n",
        "            #self.Mb[i+1] /= (1-np.power(beta1,t))\n",
        "\n",
        "          for i in range(self.L):\n",
        "            self.Vw[i+1] = (beta2*self.Vw[i+1])+(1-beta2)*(self.dW[i+1]**2)\n",
        "            #self.Vw[i+1] /= (1-np.power(beta2,t))\n",
        "            self.Vb[i+1] = (beta2*self.Vb[i+1])+(1-beta2)*(self.db[i+1]**2)\n",
        "            #self.Vb[i+1] /= (1-np.power(beta2,t))\n",
        "\n",
        "          t += 1  \n",
        "\n",
        "          for i in range(self.L):\n",
        "            self.W[i+1] -= learning_rate*(self.Mw[i+1]/(np.sqrt(self.Vw[i+1])+10e-8))\n",
        "            self.b[i+1] -= learning_rate*(self.Mb[i+1]/(np.sqrt(self.Vb[i+1])+10e-8))\n",
        "\n",
        "      Y_pred_train = self.forward_propagation(X_train)[self.L]\n",
        "      Y_pred_val = self.forward_propagation(X_val)[self.L]\n",
        "                                   \n",
        "      train_cost.append(self.compute_cost(Y_pred_train,Y_train))\n",
        "      val_cost.append(self.compute_cost(Y_pred_val,Y_val))\n",
        "\n",
        "      train_acc.append(self.accuracy(self.to_one_hot(Y_pred_train),Y_train))\n",
        "      val_acc.append(self.accuracy(self.to_one_hot(Y_pred_val),Y_val))\n",
        "\n",
        "      if (e+1)%self.print_loss_freq==0:\n",
        "        if self.output_type == 'classification':\n",
        "          print(\"After \"+str(e+1)+\" epochs :    Training Loss = \"+str(train_cost[e]) +\n",
        "                \"    Validation Loss = \"+str(val_cost[e]) + \"\\n\\n\\t\\t \" +\n",
        "                \"    Training Accuracy = \"+str(train_acc[e]) +\n",
        "                \"    Validation Accuracy = \"+str(val_acc[e])+'\\n')\n",
        "        else:\n",
        "          print(\"After \"+str(e+1)+\" epochs :    Training Loss = \"+str(train_cost[e]) + \n",
        "                \"    Validation Loss = \"+str(val_cost[e])+'\\n')  \n",
        "\n",
        "    if plot_loss == True:\n",
        "\n",
        "      r = list(range(1,epochs+1))\n",
        "      plt.plot(r,train_cost,'r',label=\"Training Loss\")\n",
        "      plt.plot(r,val_cost,'b',label=\"Validation Loss\")\n",
        "      plt.xlabel('Epochs')\n",
        "      if self.output_type == 'regression':\n",
        "        plt.ylabel('L2 Loss')\n",
        "      else:\n",
        "        plt.ylabel('Categorical Cross Entropy Loss') \n",
        "      plt.legend()\n",
        "      plt.show()\n",
        "\n",
        "      print(\"\\nTraining Loss : \",train_cost[-1])\n",
        "      print(\"\\nValidation Loss : \",val_cost[-1]) \n",
        "\n",
        "      if self.output_type == 'classification':\n",
        "        print(\"\\nTraining Accuracy : \",train_acc[-1])\n",
        "        print(\"\\nValidation Accuracy : \",val_acc[-1]) \n",
        "\n",
        "    return (train_cost,val_cost,train_acc,val_acc)       \n",
        "\n",
        "\n",
        "\n",
        "  def predict(self,X):\n",
        "    \"\"\"\n",
        "    The method to predict outputs for given unknown input data.\n",
        "\n",
        "    Parameters :\n",
        "\n",
        "    X(NumPy 2D array of shape (input_size,m))  : Input data for batch of size m.\n",
        "\n",
        "    Returns :\n",
        "\n",
        "    Y_pred(NumPy 2D array of shape (output_size_size,m))  : Predicted output for batch of size m.\n",
        "\n",
        "    \"\"\"\n",
        "\n",
        "    A = self.forward_propagation(X)\n",
        "\n",
        "    if self.output_type == 'regression':\n",
        "      return A[self.L]\n",
        "    else:\n",
        "      return self.to_one_hot(A[self.L])\n"
      ],
      "execution_count": 0,
      "outputs": []
    },
    {
      "cell_type": "markdown",
      "metadata": {
        "id": "hRcJBBFr8ux2",
        "colab_type": "text"
      },
      "source": [
        "#**CLASSIFICATION on MNIST dataset**"
      ]
    },
    {
      "cell_type": "code",
      "metadata": {
        "id": "Mnl_y2m3VFFr",
        "colab_type": "code",
        "colab": {}
      },
      "source": [
        "# Import packages\n",
        "\n",
        "from keras.datasets import mnist\n",
        "from sklearn.model_selection import train_test_split\n",
        "from keras.utils import to_categorical"
      ],
      "execution_count": 0,
      "outputs": []
    },
    {
      "cell_type": "code",
      "metadata": {
        "id": "_wS_Thst1YSi",
        "colab_type": "code",
        "outputId": "4f0166b4-91fc-4770-c7f6-439422c5b39c",
        "colab": {
          "base_uri": "https://localhost:8080/",
          "height": 50
        }
      },
      "source": [
        "# Load MNIST dataset \n",
        "\n",
        "(X, Y), (X_test, Y_test) = mnist.load_data()"
      ],
      "execution_count": 0,
      "outputs": [
        {
          "output_type": "stream",
          "text": [
            "Downloading data from https://s3.amazonaws.com/img-datasets/mnist.npz\n",
            "11493376/11490434 [==============================] - 0s 0us/step\n"
          ],
          "name": "stdout"
        }
      ]
    },
    {
      "cell_type": "code",
      "metadata": {
        "id": "pkmqvmQw-jPM",
        "colab_type": "code",
        "outputId": "0b58826c-bad2-4aca-cd15-3c676f7d537e",
        "colab": {
          "base_uri": "https://localhost:8080/",
          "height": 282
        }
      },
      "source": [
        "# Visualize the dataset\n",
        "\n",
        "index = 300\n",
        "\n",
        "plt.imshow(X[index],cmap='gray')\n",
        "plt.show\n",
        "\n",
        "print('Label = '+str(Y[index]))"
      ],
      "execution_count": 0,
      "outputs": [
        {
          "output_type": "stream",
          "text": [
            "Label = 8\n"
          ],
          "name": "stdout"
        },
        {
          "output_type": "display_data",
          "data": {
            "image/png": "[encoded data removed]",
            "text/plain": [
              "<Figure size 432x288 with 1 Axes>"
            ]
          },
          "metadata": {
            "tags": []
          }
        }
      ]
    },
    {
      "cell_type": "code",
      "metadata": {
        "id": "Ql27Xvz19LAf",
        "colab_type": "code",
        "colab": {}
      },
      "source": [
        "# Normalize, reshape and split into train, test and validation datasets.\n",
        "\n",
        "X_train,X_val,Y_train,Y_val = train_test_split(X,Y,test_size=0.01)\n",
        "Y_train = to_categorical(Y_train).T\n",
        "X_train = X_train.T.reshape(784,-1)/255\n",
        "Y_val = to_categorical(Y_val).T\n",
        "X_val = X_val.T.reshape(784,-1)/255\n",
        "Y_test = to_categorical(Y_test).T\n",
        "X_test = X_test.T.reshape(784,-1)/255"
      ],
      "execution_count": 0,
      "outputs": []
    },
    {
      "cell_type": "code",
      "metadata": {
        "id": "yUFwHTvMmFVm",
        "colab_type": "code",
        "outputId": "31ca8f20-3495-4d3a-a152-de99f94fcc0a",
        "colab": {
          "base_uri": "https://localhost:8080/",
          "height": 682
        }
      },
      "source": [
        "# Define and train the Deep Neural Network.\n",
        "\n",
        "model = Deep_Neural_Network()\n",
        "model.create(784,10,[800],output_type='classification',activation='lrelu',initializer='he',\n",
        "             leaky_relu_slope=0.1)\n",
        "\n",
        "costs = model.train(X_train,Y_train,X_val,Y_val,optimizer='adam',regularizer='dropout',keep_probs=[0.75],\n",
        "                    mini_batch_size=128,epochs=20,print_loss_freq=5,learning_rate=0.0002)"
      ],
      "execution_count": 0,
      "outputs": [
        {
          "output_type": "stream",
          "text": [
            "After 5 epochs :    Training Loss = 0.09741785817154956    Validation Loss = 0.11765183547030508\n",
            "\n",
            "\t\t     Training Accuracy = 0.9734680134680135    Validation Accuracy = 0.97\n",
            "\n",
            "After 10 epochs :    Training Loss = 0.04905321969145776    Validation Loss = 0.07825224710500901\n",
            "\n",
            "\t\t     Training Accuracy = 0.9867508417508417    Validation Accuracy = 0.975\n",
            "\n",
            "After 15 epochs :    Training Loss = 0.028190736743280063    Validation Loss = 0.06407545699787537\n",
            "\n",
            "\t\t     Training Accuracy = 0.9934006734006734    Validation Accuracy = 0.985\n",
            "\n",
            "After 20 epochs :    Training Loss = 0.01690642379925382    Validation Loss = 0.0629027117189508\n",
            "\n",
            "\t\t     Training Accuracy = 0.996986531986532    Validation Accuracy = 0.9883333333333333\n",
            "\n"
          ],
          "name": "stdout"
        },
        {
          "output_type": "display_data",
          "data": {
            "image/png": "[encoded data removed]",
            "text/plain": [
              "<Figure size 432x288 with 1 Axes>"
            ]
          },
          "metadata": {
            "tags": []
          }
        },
        {
          "output_type": "stream",
          "text": [
            "\n",
            "Training Loss :  0.01690642379925382\n",
            "\n",
            "Validation Loss :  0.0629027117189508\n",
            "\n",
            "Training Accuracy :  0.996986531986532\n",
            "\n",
            "Validation Accuracy :  0.9883333333333333\n"
          ],
          "name": "stdout"
        }
      ]
    },
    {
      "cell_type": "code",
      "metadata": {
        "id": "6BL0a_jRrmMG",
        "colab_type": "code",
        "colab": {}
      },
      "source": [
        "# Predict labels for test set.\n",
        "\n",
        "Y_pred = model.predict(X_test)"
      ],
      "execution_count": 0,
      "outputs": []
    },
    {
      "cell_type": "code",
      "metadata": {
        "id": "FBh66Utetu9e",
        "colab_type": "code",
        "outputId": "a422ba44-7b9a-4537-c99c-7fd9495cc9cf",
        "colab": {
          "base_uri": "https://localhost:8080/",
          "height": 34
        }
      },
      "source": [
        "# Calculate Model Accuracy.\n",
        "\n",
        "print(model.accuracy(Y_pred,Y_test))"
      ],
      "execution_count": 0,
      "outputs": [
        {
          "output_type": "stream",
          "text": [
            "0.984\n"
          ],
          "name": "stdout"
        }
      ]
    },
    {
      "cell_type": "markdown",
      "metadata": {
        "id": "ysV7czsasUB_",
        "colab_type": "text"
      },
      "source": [
        "#**REGRESSION on Boston Housing dataset**"
      ]
    },
    {
      "cell_type": "code",
      "metadata": {
        "id": "1HLbZcDJVcr4",
        "colab_type": "code",
        "colab": {}
      },
      "source": [
        "# Import packages\n",
        "\n",
        "from keras.datasets import boston_housing\n",
        "import pandas as pd\n",
        "from sklearn.model_selection import train_test_split"
      ],
      "execution_count": 0,
      "outputs": []
    },
    {
      "cell_type": "code",
      "metadata": {
        "id": "Cs73ttj7tcxu",
        "colab_type": "code",
        "outputId": "ef824312-9322-43c0-d6a5-038d2b977435",
        "colab": {
          "base_uri": "https://localhost:8080/",
          "height": 50
        }
      },
      "source": [
        "# Load Boston Housing dataset \n",
        "\n",
        "(X, Y), (X_test, Y_test) = boston_housing.load_data()"
      ],
      "execution_count": 0,
      "outputs": [
        {
          "output_type": "stream",
          "text": [
            "Downloading data from https://s3.amazonaws.com/keras-datasets/boston_housing.npz\n",
            "57344/57026 [==============================] - 0s 0us/step\n"
          ],
          "name": "stdout"
        }
      ]
    },
    {
      "cell_type": "code",
      "metadata": {
        "id": "Je2XfoKSCYfl",
        "colab_type": "code",
        "outputId": "cc65cd54-f467-43cc-ddb9-4a7688f16909",
        "colab": {
          "base_uri": "https://localhost:8080/",
          "height": 302
        }
      },
      "source": [
        "# Compute Correlation Matrix\n",
        "\n",
        "data = pd.DataFrame(np.concatenate((X,Y.reshape(-1,1)),axis=1))\n",
        "print(data.corr())"
      ],
      "execution_count": 0,
      "outputs": [
        {
          "output_type": "stream",
          "text": [
            "          0         1         2   ...        11        12        13\n",
            "0   1.000000 -0.192179  0.397419  ... -0.390613  0.434384 -0.378498\n",
            "1  -0.192179  1.000000 -0.533823  ...  0.176006 -0.415237  0.380299\n",
            "2   0.397419 -0.533823  1.000000  ... -0.372885  0.603129 -0.476743\n",
            "3  -0.050828 -0.041981  0.052839  ...  0.037832 -0.011017  0.168661\n",
            "4   0.405765 -0.521713  0.774200  ... -0.409479  0.592994 -0.438328\n",
            "5  -0.217597  0.338683 -0.409924  ...  0.145525 -0.610844  0.681483\n",
            "6   0.344410 -0.578728  0.656350  ... -0.278403  0.590898 -0.364173\n",
            "7  -0.378590  0.650787 -0.725155  ...  0.295995 -0.507075  0.253900\n",
            "8   0.609689 -0.311091  0.599226  ... -0.478245  0.490250 -0.375515\n",
            "9   0.575652 -0.303522  0.701362  ... -0.471777  0.534752 -0.448737\n",
            "10  0.273447 -0.403139  0.379284  ... -0.178060  0.365873 -0.493990\n",
            "11 -0.390613  0.176006 -0.372885  ...  1.000000 -0.376081  0.343953\n",
            "12  0.434384 -0.415237  0.603129  ... -0.376081  1.000000 -0.730793\n",
            "13 -0.378498  0.380299 -0.476743  ...  0.343953 -0.730793  1.000000\n",
            "\n",
            "[14 rows x 14 columns]\n"
          ],
          "name": "stdout"
        }
      ]
    },
    {
      "cell_type": "code",
      "metadata": {
        "id": "sspQEh31G4hl",
        "colab_type": "code",
        "colab": {}
      },
      "source": [
        "# Drop unecessary features\n",
        "\n",
        "X = X[:,[5,12]]\n",
        "X_test = X_test[:,[5,12]]"
      ],
      "execution_count": 0,
      "outputs": []
    },
    {
      "cell_type": "code",
      "metadata": {
        "id": "buBHUTjXr7ga",
        "colab_type": "code",
        "colab": {}
      },
      "source": [
        "# Normalize, reshape and split into train, test and validation datasets.\n",
        "\n",
        "X_train,X_val,Y_train,Y_val = train_test_split(X,Y,test_size=0.1)\n",
        "\n",
        "Y_train = Y_train.reshape(1,Y_train.shape[0])\n",
        "Y_val = Y_val.reshape(1,Y_val.shape[0])\n",
        "\n",
        "X_train = (X_train-np.mean(X_train,axis=0))/np.std(X_train,axis=0)\n",
        "X_val = (X_val-np.mean(X_val,axis=0))/np.std(X_val,axis=0)\n",
        "X_test = (X_test-np.mean(X_test,axis=0))/np.std(X_test,axis=0)"
      ],
      "execution_count": 0,
      "outputs": []
    },
    {
      "cell_type": "code",
      "metadata": {
        "id": "IlL1ndJdxutV",
        "colab_type": "code",
        "outputId": "c5ba775e-91bc-4f44-de3c-724e295b8175",
        "colab": {
          "base_uri": "https://localhost:8080/",
          "height": 514
        }
      },
      "source": [
        "# Define and train the Deep Neural Network.\n",
        "\n",
        "model = Deep_Neural_Network()\n",
        "\n",
        "model.create(2,1,[10,20],output_type='regression',activation='relu',initializer='he')\n",
        "\n",
        "costs = model.train(X_train.T,Y_train,X_val.T,Y_val,optimizer='rmsprop',regularizer='l2',\n",
        "                    regularizer_lambda=0.1,mini_batch_size=32,epochs=50,print_loss_freq=10,\n",
        "                    learning_rate=0.002)"
      ],
      "execution_count": 0,
      "outputs": [
        {
          "output_type": "stream",
          "text": [
            "After 10 epochs :    Training Loss = 74.00527070049927    Validation Loss = 37.72745585699798\n",
            "\n",
            "After 20 epochs :    Training Loss = 18.262741666185946    Validation Loss = 26.508684928087593\n",
            "\n",
            "After 30 epochs :    Training Loss = 12.317585195713873    Validation Loss = 17.933010242716158\n",
            "\n",
            "After 40 epochs :    Training Loss = 10.364297647267557    Validation Loss = 15.580683447759387\n",
            "\n",
            "After 50 epochs :    Training Loss = 9.79475027726448    Validation Loss = 13.860932504828817\n",
            "\n"
          ],
          "name": "stdout"
        },
        {
          "output_type": "display_data",
          "data": {
            "image/png": "[encoded data removed]",
            "text/plain": [
              "<Figure size 432x288 with 1 Axes>"
            ]
          },
          "metadata": {
            "tags": []
          }
        },
        {
          "output_type": "stream",
          "text": [
            "\n",
            "Training Loss :  9.79475027726448\n",
            "\n",
            "Validation Loss :  13.860932504828817\n"
          ],
          "name": "stdout"
        }
      ]
    },
    {
      "cell_type": "code",
      "metadata": {
        "id": "n6yomL6R3J6j",
        "colab_type": "code",
        "colab": {}
      },
      "source": [
        "# Predict output for test dataset.\n",
        "\n",
        "Y_p = model.predict(X_test.T)"
      ],
      "execution_count": 0,
      "outputs": []
    },
    {
      "cell_type": "code",
      "metadata": {
        "id": "DWWtN0nL3Sfn",
        "colab_type": "code",
        "outputId": "e5d8aeb2-83de-4a1f-c876-bf6b0c92bd0b",
        "colab": {
          "base_uri": "https://localhost:8080/",
          "height": 34
        }
      },
      "source": [
        "# Calculate Loss for test dataset\n",
        "\n",
        "print(model.compute_cost(Y_p,Y_test.reshape(1,102)))"
      ],
      "execution_count": 0,
      "outputs": [
        {
          "output_type": "stream",
          "text": [
            "12.63764014065143\n"
          ],
          "name": "stdout"
        }
      ]
    }
  ]
}